{
 "cells": [
  {
   "cell_type": "markdown",
   "id": "2e4f8ede",
   "metadata": {},
   "source": [
    "Implementing Policy Iteration which computes an optimal $\\pi$ by performing a sequence of interleaved policy evaluations and improvements. We execute it to get the policy for a gridworld game where you try to go from -1 to 1 in the least amount of steps.\n"
   ]
  },
  {
   "cell_type": "code",
   "execution_count": 12,
   "id": "1a6f2963-7d57-457b-a156-8473914e5655",
   "metadata": {},
   "outputs": [],
   "source": [
    "from tabular_policy import TabularPolicy\n",
    "from tabular_value_function import TabularValueFunction\n",
    "from qtable import QTable\n",
    "\n",
    "\n",
    "class PolicyIteration:\n",
    "    def __init__(self, mdp, policy):\n",
    "        self.mdp = mdp\n",
    "        self.policy = policy\n",
    "\n",
    "    def policy_evaluation(self, policy, values, theta=0.001):\n",
    "\n",
    "        while True:\n",
    "            delta = 0.0\n",
    "            new_values = TabularValueFunction()\n",
    "            for state in self.mdp.get_states():\n",
    "                # Calculate the value of V(s)\n",
    "                actions = self.mdp.get_actions(state)\n",
    "                old_value = values.get_value(state)\n",
    "                new_value = values.get_q_value(\n",
    "                    self.mdp, state, policy.select_action(state, actions)\n",
    "                )\n",
    "                values.add(state, new_value)\n",
    "                delta = max(delta, abs(old_value - new_value))\n",
    "\n",
    "            # terminate if the value function has converged\n",
    "            if delta < theta:\n",
    "                break\n",
    "\n",
    "        return values\n",
    "\n",
    "    \"\"\" Implmentation of policy iteration iteration. Returns the number of iterations executed \"\"\"\n",
    "\n",
    "    def policy_iteration(self, max_iterations=100, theta=0.001):\n",
    "\n",
    "        # create a value function to hold details\n",
    "        values = TabularValueFunction()\n",
    "\n",
    "        for i in range(1, max_iterations + 1):\n",
    "            policy_changed = False\n",
    "            values = self.policy_evaluation(self.policy, values, theta)\n",
    "            for state in self.mdp.get_states():\n",
    "\n",
    "                actions = self.mdp.get_actions(state)\n",
    "                old_action = self.policy.select_action(state, actions)\n",
    "\n",
    "                q_values = QTable(alpha=1.0)\n",
    "                for action in self.mdp.get_actions(state):\n",
    "                    # Calculate the value of Q(s,a)\n",
    "                    new_value = values.get_q_value(self.mdp, state, action)\n",
    "                    q_values.update(state, action, new_value)\n",
    "                # V(s) = argmax_a Q(s,a)\n",
    "                new_action = q_values.get_argmax_q(state, self.mdp.get_actions(state))\n",
    "                self.policy.update(state, new_action)\n",
    "                policy_changed = (\n",
    "                    True if new_action is not old_action else policy_changed\n",
    "                )\n",
    "\n",
    "            if not policy_changed:\n",
    "                return i\n",
    "\n",
    "        return max_iterations"
   ]
  },
  {
   "cell_type": "code",
   "execution_count": 13,
   "id": "0df5ebea-6938-4017-b36a-66f4895499f8",
   "metadata": {},
   "outputs": [
    {
     "name": "stdout",
     "output_type": "stream",
     "text": [
      "→ | → | → | 1\n",
      "↑ |  | ↑ | -1\n",
      "↑ | → | ↑ | ←\n",
      "\n"
     ]
    }
   ],
   "source": [
    "from gridworld import GridWorld\n",
    "from policy_iteration import PolicyIteration\n",
    "from tabular_policy import TabularPolicy\n",
    "\n",
    "gridworld = GridWorld()\n",
    "policy = TabularPolicy(default_action=gridworld.LEFT)\n",
    "PolicyIteration(gridworld, policy).policy_iteration(max_iterations=100)\n",
    "gridworld.visualise_policy(policy)"
   ]
  },
  {
   "cell_type": "code",
   "execution_count": 14,
   "id": "027c8e50",
   "metadata": {},
   "outputs": [
    {
     "name": "stdout",
     "output_type": "stream",
     "text": [
      "Number of iterations until convergence: 16\n",
      "→ | → | → | ↓ | ↓ | ↓ | ↓ | ↓ | ↓ | ↓ | ↓ | ↓ | ↓ | ↓ | ↓ | ↓ | ↓ | ↓ | ↓ | ↓\n",
      "→ | → | → | ↓ | ↓ | ↓ | ↓ | ↓ | ↓ | ↓ | ↓ | ↓ | ↓ | ↓ | ↓ | ↓ | ↓ | ↓ | ↓ | ↓\n",
      "→ | → | → | ↓ | ↓ | ↓ | ↓ | ↓ | ↓ | ↓ | ↓ | ↓ | ↓ | ↓ | ↓ | ↓ | ↓ | ↓ | ↓ | ↓\n",
      "→ | → | → | ↓ | ↓ | ↓ | ↓ | ↓ | ↓ | ↓ | ↓ | ↓ | ↓ | ↓ | ↓ | ↓ | ↓ | ↓ | ↓ | ↓\n",
      "→ | → | → | ↓ | ↓ | ↓ | ↓ | ↓ | ↓ | ↓ | ↓ | ↓ | ↓ | ↓ | ↓ | ↓ | ↓ | ↓ | ↓ | ↓\n",
      "→ | → | → | ↓ | ↓ | ↓ | ↓ | ↓ | ↓ | ↓ | ↓ | ↓ | ↓ | ↓ | ↓ | ↓ | ↓ | ↓ | ↓ | ↓\n",
      "→ | → | → | ↓ | ↓ | ↓ | ↓ | ↓ | ↓ | ↓ | ↓ | ↓ | ↓ | ↓ | ↓ | ↓ | ↓ | ↓ | ↓ | ↓\n",
      "→ | → | → | ↓ | ↓ | ↓ | ↓ | ↓ | ↓ | ↓ | ↓ | ↓ | ↓ | ↓ | ↓ | ↓ | ↓ | ↓ | ↓ | ↓\n",
      "→ | → | → | ↓ | ↓ | ↓ | ↓ | ↓ | ↓ | ↓ | ↓ | ↓ | ↓ | ↓ | ↓ | ↓ | ↓ | ↓ | ↓ | ↓\n",
      "→ | → | → | ↓ | ↓ | ↓ | ↓ | ↓ | ↓ | ↓ | ↓ | ↓ | ↓ | ↓ | ↓ | ↓ | ↓ | ↓ | ↓ | ↓\n",
      "→ | → | → | ↓ | ↓ | ↓ | ↓ | ↓ | ↓ | ↓ | ↓ | ↓ | ↓ | ↓ | ↓ | ↓ | ↓ | ↓ | ↓ | ↓\n",
      "→ | → | → | ↓ | ↓ | ↓ | ↓ | ↓ | ↓ | ↓ | ↓ | ↓ | ↓ | ↓ | ↓ | ↓ | ↓ | ↓ | ↓ | ↓\n",
      "→ | → | → | 1 | ← | ← | ← | ← | ← | ← | ← | ← | ← | ← | ← | ← | ← | ← | ← | ←\n",
      "↑ |  | ↑ | -1 | ↑ | ↑ | ↑ | ↑ | ↑ | ↑ | ↑ | ↑ | ↑ | ↑ | ↑ | ↑ | ↑ | ↑ | ↑ | ↑\n",
      "↑ | → | ↑ | → | ↑ | ↑ | ↑ | ↑ | ↑ | ↑ | ↑ | ↑ | ↑ | ↑ | ↑ | ↑ | ↑ | ↑ | ↑ | ↑\n",
      "\n"
     ]
    }
   ],
   "source": [
    "gridworld = GridWorld(width=20, height=15)\n",
    "policy = TabularPolicy(default_action=gridworld.LEFT)\n",
    "iterations = PolicyIteration(gridworld, policy).policy_iteration(max_iterations=100)\n",
    "print(\"Number of iterations until convergence: %d\" % (iterations))\n",
    "gridworld.visualise_policy(policy)"
   ]
  }
 ],
 "metadata": {
  "kernelspec": {
   "display_name": "Python 3",
   "language": "python",
   "name": "python3"
  },
  "language_info": {
   "codemirror_mode": {
    "name": "ipython",
    "version": 3
   },
   "file_extension": ".py",
   "mimetype": "text/x-python",
   "name": "python",
   "nbconvert_exporter": "python",
   "pygments_lexer": "ipython3",
   "version": "3.11.7"
  }
 },
 "nbformat": 4,
 "nbformat_minor": 5
}
